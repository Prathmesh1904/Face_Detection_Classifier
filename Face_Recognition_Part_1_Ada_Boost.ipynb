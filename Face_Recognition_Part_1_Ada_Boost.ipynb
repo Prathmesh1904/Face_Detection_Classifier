{
 "cells": [
  {
   "cell_type": "code",
   "execution_count": 2,
   "metadata": {},
   "outputs": [
    {
     "name": "stdout",
     "output_type": "stream",
     "text": [
      "-----------------------Taking pictures----------------------\n",
      "--------------------Give some expressions---------------------\n"
     ]
    },
    {
     "ename": "error",
     "evalue": "OpenCV(4.7.0) D:\\a\\opencv-python\\opencv-python\\opencv\\modules\\imgproc\\src\\color.cpp:182: error: (-215:Assertion failed) !_src.empty() in function 'cv::cvtColor'\n",
     "output_type": "error",
     "traceback": [
      "\u001b[1;31m---------------------------------------------------------------------------\u001b[0m",
      "\u001b[1;31merror\u001b[0m                                     Traceback (most recent call last)",
      "Cell \u001b[1;32mIn[2], line 21\u001b[0m\n\u001b[0;32m     19\u001b[0m (rval, im) \u001b[39m=\u001b[39m webcam\u001b[39m.\u001b[39mread()\n\u001b[0;32m     20\u001b[0m im \u001b[39m=\u001b[39m cv2\u001b[39m.\u001b[39mflip(im, \u001b[39m1\u001b[39m, \u001b[39m0\u001b[39m)\n\u001b[1;32m---> 21\u001b[0m gray \u001b[39m=\u001b[39m cv2\u001b[39m.\u001b[39;49mcvtColor(im, cv2\u001b[39m.\u001b[39;49mCOLOR_BGR2GRAY)\n\u001b[0;32m     22\u001b[0m mini \u001b[39m=\u001b[39m cv2\u001b[39m.\u001b[39mresize(gray,(gray\u001b[39m.\u001b[39mshape[\u001b[39m1\u001b[39m]\u001b[39m/\u001b[39m\u001b[39m/\u001b[39msize, gray\u001b[39m.\u001b[39mshape[\u001b[39m0\u001b[39m]\u001b[39m/\u001b[39m\u001b[39m/\u001b[39msize))\n\u001b[0;32m     23\u001b[0m faces \u001b[39m=\u001b[39m haar_cascade\u001b[39m.\u001b[39mdetectMultiScale(mini)\n",
      "\u001b[1;31merror\u001b[0m: OpenCV(4.7.0) D:\\a\\opencv-python\\opencv-python\\opencv\\modules\\imgproc\\src\\color.cpp:182: error: (-215:Assertion failed) !_src.empty() in function 'cv::cvtColor'\n"
     ]
    }
   ],
   "source": [
    "# Create_Database\n",
    "import cv2, sys, numpy, os, time\n",
    "count = 0\n",
    "size = 4\n",
    "fn_haar = 'haarcascade_frontalface_default.xml'\n",
    "fn_dir = \"C:/Users/LENOVO/OneDrive/Desktop/mini project main/database\"\n",
    "fn_name = input(\"Enter the Person's Name: \")\n",
    "path = os.path.join(fn_dir, fn_name)\n",
    "if not os.path.isdir(path):\n",
    "    os.mkdir(path)\n",
    "(im_width, im_height) = (112, 92)\n",
    "haar_cascade = cv2.CascadeClassifier(fn_haar)\n",
    "webcam = cv2.VideoCapture(0)\n",
    "\n",
    "print(\"-----------------------Taking pictures----------------------\")\n",
    "print(\"--------------------Give some expressions---------------------\")\n",
    "\n",
    "while count < 150:\n",
    "    (rval, im) = webcam.read()\n",
    "    im = cv2.flip(im, 1, 0)\n",
    "    gray = cv2.cvtColor(im, cv2.COLOR_BGR2GRAY)\n",
    "    mini = cv2.resize(gray,(gray.shape[1]//size, gray.shape[0]//size))\n",
    "    faces = haar_cascade.detectMultiScale(mini)\n",
    "    faces = sorted(faces, key=lambda x: x[3])\n",
    "    if faces:\n",
    "        face_i = faces[0]\n",
    "        (x, y, w, h) = [v * size for v in face_i]\n",
    "        face = gray[y:y + h, x:x + w]\n",
    "        face_resize = cv2.resize(face, (im_width, im_height))\n",
    "        pin=sorted([int(n[:n.find('.')]) for n in os.listdir(path)\n",
    "               if n[0]!='.' ]+[0])[-1] + 1\n",
    "        cv2.imwrite('%s/%s.jpg' % (path, pin), face_resize)\n",
    "        cv2.rectangle(im, (x, y), (x + w, y + h), (0, 255, 0), 3)\n",
    "        cv2.putText(im, fn_name, (x - 10, y - 10), cv2.FONT_HERSHEY_PLAIN,\n",
    "            1,(0, 255, 0))\n",
    "        time.sleep(0.38)\n",
    "        count += 1\n",
    "    cv2.imshow('Creating Dataset', im)\n",
    "    key = cv2.waitKey(10)\n",
    "    if key == 27:\n",
    "        break\n",
    "print(str(count) + \" images taken and saved to \" + fn_name +\" folder in database \")\n",
    "webcam.release()\n",
    "cv2.destroyAllWindows()\n"
   ]
  },
  {
   "cell_type": "code",
   "execution_count": 2,
   "metadata": {},
   "outputs": [
    {
     "name": "stdout",
     "output_type": "stream",
     "text": [
      "Training...\n"
     ]
    },
    {
     "ename": "AttributeError",
     "evalue": "module 'cv2' has no attribute 'face'",
     "output_type": "error",
     "traceback": [
      "\u001b[1;31m---------------------------------------------------------------------------\u001b[0m",
      "\u001b[1;31mAttributeError\u001b[0m                            Traceback (most recent call last)",
      "Cell \u001b[1;32mIn[2], line 27\u001b[0m\n\u001b[0;32m     21\u001b[0m (width, height) \u001b[39m=\u001b[39m (\u001b[39m130\u001b[39m, \u001b[39m100\u001b[39m)\n\u001b[0;32m     24\u001b[0m (images, lables) \u001b[39m=\u001b[39m [numpy\u001b[39m.\u001b[39marray(lis) \u001b[39mfor\u001b[39;00m lis \u001b[39min\u001b[39;00m [images, lables]]\n\u001b[1;32m---> 27\u001b[0m model \u001b[39m=\u001b[39m cv2\u001b[39m.\u001b[39;49mface\u001b[39m.\u001b[39mLBPHFaceRecognizer_create()\n\u001b[0;32m     28\u001b[0m model\u001b[39m.\u001b[39mtrain(images, lables)\n\u001b[0;32m     30\u001b[0m face_cascade \u001b[39m=\u001b[39m cv2\u001b[39m.\u001b[39mCascadeClassifier(haar_file)\n",
      "\u001b[1;31mAttributeError\u001b[0m: module 'cv2' has no attribute 'face'"
     ]
    }
   ],
   "source": [
    "#Identify faces\n",
    "import cv2, sys, numpy, os\n",
    "\n",
    "size = 4\n",
    "haar_file = 'haarcascade_frontalface_default.xml'\n",
    "datasets = 'database'\n",
    "\n",
    "print('Training...')\n",
    "# Create a list of images and a list of corresponding names\n",
    "(images, lables, names, id) = ([], [], {}, 0)\n",
    "for (subdirs, dirs, files) in os.walk(datasets):\n",
    "    for subdir in dirs:\n",
    "        names[id] = subdir\n",
    "        subjectpath = os.path.join(datasets, subdir)\n",
    "        for filename in os.listdir(subjectpath):\n",
    "            path = subjectpath + '/' + filename\n",
    "            lable = id\n",
    "            images.append(cv2.imread(path, 0))\n",
    "            lables.append(int(lable))\n",
    "        id += 1\n",
    "(width, height) = (130, 100)\n",
    "\n",
    "\n",
    "(images, lables) = [numpy.array(lis) for lis in [images, lables]]\n",
    "\n",
    "\n",
    "model = cv2.face.LBPHFaceRecognizer_create()\n",
    "model.train(images, lables)\n",
    "\n",
    "face_cascade = cv2.CascadeClassifier(haar_file)\n",
    "webcam = cv2.VideoCapture(0)\n",
    "while True:\n",
    "    (_, im) = webcam.read()\n",
    "    im = cv2.flip(im, 1, 0)\n",
    "    gray = cv2.cvtColor(im, cv2.COLOR_BGR2GRAY)\n",
    "    faces = face_cascade.detectMultiScale(gray, 1.3, 5)\n",
    "    for (x, y, w, h) in faces:\n",
    "        cv2.rectangle(im, (x, y), (x + w, y + h), (255, 0, 0), 2)\n",
    "        face = gray[y:y + h, x:x + w]\n",
    "        face_resize = cv2.resize(face, (width, height))\n",
    "        # Try to recognize the face\n",
    "        prediction = model.predict(face_resize)\n",
    "        cv2.rectangle(im, (x, y), (x + w, y + h), (0, 255, 0), 3)\n",
    "\n",
    "        if prediction[1] < 500:\n",
    "            cv2.putText(im, '%s - %.0f' % (names[prediction[0]], prediction[1]), (x - 10, y - 10),\n",
    "                        cv2.FONT_HERSHEY_PLAIN, 1, (0, 255, 0))\n",
    "        else:\n",
    "            cv2.putText(im, 'not recognized', (x - 10, y - 10), cv2.FONT_HERSHEY_PLAIN, 1, (0, 255, 0))\n",
    "\n",
    "    cv2.imshow('Face Detection Classifier', im)\n",
    "    if cv2.waitKey(1) & 0xFF ==ord('q'):\n",
    "        break\n",
    "        \n",
    "webcam.release()\n",
    "cv2.destroyAllWindows()"
   ]
  }
 ],
 "metadata": {
  "kernelspec": {
   "display_name": "Python 3",
   "language": "python",
   "name": "python3"
  },
  "language_info": {
   "codemirror_mode": {
    "name": "ipython",
    "version": 3
   },
   "file_extension": ".py",
   "mimetype": "text/x-python",
   "name": "python",
   "nbconvert_exporter": "python",
   "pygments_lexer": "ipython3",
   "version": "3.9.7"
  },
  "vscode": {
   "interpreter": {
    "hash": "2a8dfe095fce2b5e88c64a2c3ee084c8e0e0d70b23e7b95b1cfb538be294c5c8"
   }
  }
 },
 "nbformat": 4,
 "nbformat_minor": 2
}
